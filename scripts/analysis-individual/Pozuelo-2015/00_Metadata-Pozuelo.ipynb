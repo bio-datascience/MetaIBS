{
 "cells": [
  {
   "cell_type": "markdown",
   "metadata": {},
   "source": [
    "# Get host-subtype"
   ]
  },
  {
   "cell_type": "markdown",
   "metadata": {},
   "source": [
    "This code will allow to extract the information on `host_subtype` from the SRA, that is stored in the BioSample \"Description\" slot."
   ]
  },
  {
   "cell_type": "code",
   "execution_count": null,
   "metadata": {},
   "outputs": [],
   "source": [
    "import pandas as pd\n",
    "import requests\n",
    "import bs4\n",
    "import re"
   ]
  },
  {
   "cell_type": "markdown",
   "metadata": {},
   "source": [
    "## Functions"
   ]
  },
  {
   "cell_type": "code",
   "execution_count": null,
   "metadata": {},
   "outputs": [],
   "source": [
    "# Get url of specific BioSample\n",
    "def get_url(sample):\n",
    "    return f'http://www.ncbi.nlm.nih.gov/biosample/{sample}'\n",
    "\n",
    "# Download html page of specific BioSample\n",
    "def get_html(sample):\n",
    "    url = get_url(sample)\n",
    "    r = requests.get(url)\n",
    "    if r.status_code == 200:\n",
    "        return r.text\n",
    "    else:\n",
    "        print('ERROR: Full response object returned.')\n",
    "        return r\n",
    "\n",
    "\n",
    "def get_bs(sample):\n",
    "    r = get_html(sample)\n",
    "    if type(r) == str:\n",
    "        soup = bs4.BeautifulSoup(r, features='lxml')\n",
    "        return soup\n",
    "    else:\n",
    "        print('ERROR: Full response object returned.')\n",
    "        return r\n",
    "\n",
    "\n",
    "def get_table(sample):\n",
    "    soup = get_bs(sample)\n",
    "    if type(soup) == bs4.BeautifulSoup:\n",
    "        tags = soup.find_all('div', class_='docsum')\n",
    "        if len(tags) != 1:\n",
    "            print('ERROR: Too many tables. Full soup object returned.')\n",
    "            return soup\n",
    "        else:\n",
    "            return tags[0]\n",
    "    else:\n",
    "        print('ERROR: Full response object returned.')\n",
    "        return soup\n",
    "\n",
    "# Return dictionnary with essential info on BioSample\n",
    "def build_data_dict(sample):\n",
    "    table = get_table(sample)\n",
    "    final_data = {}\n",
    "    dls = table.find_all('dl')\n",
    "    for dl in dls:\n",
    "        descs = []\n",
    "        values = []\n",
    "        for child in dl.children:\n",
    "            if child.name == 'dt':\n",
    "                descs.append(' '.join([text for text in child.stripped_strings]))\n",
    "            elif child.name == 'dd':\n",
    "                values.append(' '.join([text for text in child.stripped_strings]))\n",
    "            else:\n",
    "                continue\n",
    "        if not (len(descs) == 1 and len(values) == 1):\n",
    "            print('ERROR: Input assumptions broken.')\n",
    "            return\n",
    "        final_data[descs[0]] = values[0]\n",
    "    if 'Identifiers' in final_data:\n",
    "        found = False\n",
    "        for field in final_data['Identifiers'].split(';'):\n",
    "            field = field.strip()\n",
    "            if ':' in field:\n",
    "                title, value = [x.strip() for x in field.split(':')]\n",
    "                if title == 'BioSample':\n",
    "                    if found:\n",
    "                        print('ERROR: Multiple BioSample IDs found.')\n",
    "                        return\n",
    "                    sample = value\n",
    "                    found = True\n",
    "        df = pd.read_html(get_url(sample))\n",
    "        if len(df) == 1:\n",
    "            final_data['Attributes'] = df[0]\n",
    "    return final_data\n",
    "\n",
    "# Build pandas DF with info on IBS subtype and sample ID\n",
    "def final_table(sampledf):\n",
    "    for sampl in sampledf[\"BioSample\"]:\n",
    "        print(sampl)\n",
    "        info = build_data_dict(sampl)\n",
    "        disease = info[\"Description\"]\n",
    "        sampleID = re.search(\"name: (.*?)\\;\", info[\"Identifiers\"]).group(1)\n",
    "        if disease == \"Alternating_IBS\": disease = \"IBS-M\"\n",
    "        elif disease == \"IBS_Diarrhoea\": disease = \"IBS-D\"\n",
    "        elif disease == \"IBS_Constipation\": disease = \"IBS-C\"\n",
    "        elif disease == \"Control\": disease = \"HC\"\n",
    "        sampledf.loc[sampledf.BioSample == sampl, \"host_subtype\"] = disease\n",
    "        sampledf.loc[sampledf.BioSample == sampl, \"host_ID\"] = sampleID\n",
    "    return sampledf"
   ]
  },
  {
   "cell_type": "markdown",
   "metadata": {},
   "source": [
    "## Obtain host_subtype"
   ]
  },
  {
   "cell_type": "code",
   "execution_count": null,
   "metadata": {},
   "outputs": [],
   "source": [
    "# Import dataframe with BioSample ID and Sample-Name\n",
    "sampledf = pd.read_csv(\"PozueloList.csv\") # replace with PozueloSraRunTable.txt maybe\n",
    "\n",
    "# Create 2 new columns\n",
    "sampledf[\"host_subtype\"] = \"\"\n",
    "sampledf[\"host_ID\"] = \"\"\n",
    "\n",
    "# Call function\n",
    "df = final_table(sampledf)\n",
    "#df[\"host_subtype\"].value_counts() # sanity check\n",
    "\n",
    "# Export as .csv file\n",
    "df.to_csv(\"/Users/scarcy/Projects/MetaIBS/scripts/analysis-individual/Pozuelo-2015/00_Metadata-Pozuelo/host_subtype.csv\",\n",
    "          index=False)"
   ]
  }
 ],
 "metadata": {
  "kernelspec": {
   "display_name": "Python 3",
   "language": "python",
   "name": "python3"
  },
  "language_info": {
   "codemirror_mode": {
    "name": "ipython",
    "version": 3
   },
   "file_extension": ".py",
   "mimetype": "text/x-python",
   "name": "python",
   "nbconvert_exporter": "python",
   "pygments_lexer": "ipython3",
   "version": "3.8.3"
  }
 },
 "nbformat": 4,
 "nbformat_minor": 4
}
