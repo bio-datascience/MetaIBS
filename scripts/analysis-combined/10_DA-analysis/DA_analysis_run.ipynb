{
 "cells": [
  {
   "cell_type": "markdown",
   "metadata": {
    "collapsed": true
   },
   "source": [
    "# Differential abundance testing of IBS data\n",
    "\n",
    "We want to test for differentially abundant taxa in every dataset, and on every taxonomic rank individually.\n",
    "We use the following methods:\n",
    "\n",
    "- scCODA (Büttner et al., 2021)\n",
    "- ANCOM-BC (Lin and Peddada, 2020)\n",
    "- LinDa (Zhou et al., 2021)"
   ]
  },
  {
   "cell_type": "code",
   "execution_count": 2,
   "outputs": [],
   "source": [
    "# Setup\n",
    "\n",
    "import os\n",
    "import DA_analysis_util_functions as util"
   ],
   "metadata": {
    "collapsed": false
   }
  },
  {
   "cell_type": "code",
   "execution_count": 2,
   "outputs": [],
   "source": [
    "r_home = \"/Library/Frameworks/R.framework/Resources\"\n",
    "r_path = r\"/Library/Frameworks/R.framework/Resources/bin\"\n",
    "\n",
    "os.environ[\"R_HOME\"] = r_home\n",
    "os.environ[\"PATH\"] = r_path + \";\" + os.environ[\"PATH\"]\n",
    "\n",
    "def one_author_new(author, levels, adds, model, alpha=0.1, run_no=None, *args, **kwargs):\n",
    "    o = {}\n",
    "    author_years = {\n",
    "        \"Fukui\": 2020,\n",
    "        \"Hugerth\": 2019,\n",
    "        \"Labus\": 2017,\n",
    "        \"LoPresti\": 2019,\n",
    "        \"Nagel\": 2016,\n",
    "        \"Pozuelo\": 2015,\n",
    "        \"Zeber\": 2016,\n",
    "        \"Zhu\": 2019,\n",
    "        \"Zhuang\": 2018,\n",
    "        \"AGP\": 2021,\n",
    "        \"Liu\": 2020,\n",
    "        \"Mars\": 2020\n",
    "    }\n",
    "\n",
    "    for l in levels[1:]:\n",
    "        print(l)\n",
    "\n",
    "        for a in adds:\n",
    "            print(a)\n",
    "\n",
    "            if model == \"sccoda\":\n",
    "                out = util.run_sccoda(author, l, fdr_level=alpha, add=a)\n",
    "            elif model == \"ancom\":\n",
    "                out = util.run_ancom_model(author, l, add=a)\n",
    "            elif model == \"ANCOMBC\":\n",
    "                out = util.run_ancombc_model(author, l, add=a, alpha=alpha)\n",
    "            elif model == \"LinDA\":\n",
    "                out = util.run_linda_model(author, l, add=a, alpha=alpha)\n",
    "            else:\n",
    "                raise ValueError(\"Invalid model name!\")\n",
    "\n",
    "            filename = f\"../../../data/analysis-combined/10_DA-analysis/{author}-{author_years[author]}/{author.lower()}_{l.lower()}_\"\n",
    "            if a is not None:\n",
    "                filename += f\"{a[1]}_\"\n",
    "\n",
    "            o[(l,a)] = out\n",
    "\n",
    "            if run_no:\n",
    "                out.to_csv(filename + f\"{model}_alpha_{alpha}_{run_no}.csv\")\n",
    "            else:\n",
    "                out.to_csv(filename + f\"{model}_alpha_{alpha}.csv\")\n",
    "\n",
    "    return o"
   ],
   "metadata": {
    "collapsed": false
   }
  },
  {
   "cell_type": "markdown",
   "source": [
    "Preparation: Specify sample groups for each author and taxonomic rank"
   ],
   "metadata": {
    "collapsed": false
   }
  },
  {
   "cell_type": "code",
   "execution_count": 3,
   "outputs": [],
   "source": [
    "import importlib\n",
    "importlib.reload(util)\n",
    "tax_levels = [\"Kingdom\", \"Phylum\", \"Class\", \"Order\", \"Family\", \"Genus\"]\n",
    "\n",
    "author_adds = {\n",
    "    \"Fukui\": [None],\n",
    "    \"Hugerth\": [(\"sample_type\", \"stool\"), (\"sample_type\", \"sigmoid\")],\n",
    "    \"Labus\": [None],\n",
    "    \"LoPresti\": [(\"sample_type\", \"stool\"), (\"sample_type\", \"sigmoid\")],\n",
    "    \"Nagel\": [None],\n",
    "    \"Pozuelo\": [(\"Collection\", \"1st\"), (\"Collection\", \"2nd\")],\n",
    "    \"Zeber\": [None],\n",
    "    \"Zhu\": [None],\n",
    "    \"Zhuang\": [None],\n",
    "    \"Mars\": [(\"Collection\", \"1st\"), (\"Collection\", \"2nd\")],\n",
    "    \"Liu\": [None],\n",
    "    \"AGP\": [None],\n",
    "}"
   ],
   "metadata": {
    "collapsed": false
   }
  },
  {
   "cell_type": "markdown",
   "source": [
    "## Run ANCOM-BC"
   ],
   "metadata": {
    "collapsed": false
   }
  },
  {
   "cell_type": "code",
   "execution_count": null,
   "outputs": [],
   "source": [
    "model = \"ANCOMBC\"\n",
    "alpha = 0.2\n",
    "run_no = 1\n",
    "\n",
    "for author, adds in author_adds.items():\n",
    "    print(\"\")\n",
    "    print(author)\n",
    "    one_author_new(author, tax_levels, adds, model, alpha, run_no=run_no)"
   ],
   "metadata": {
    "collapsed": false,
    "pycharm": {
     "is_executing": true
    }
   }
  },
  {
   "cell_type": "markdown",
   "source": [
    "## Run scCODA"
   ],
   "metadata": {
    "collapsed": false
   }
  },
  {
   "cell_type": "code",
   "execution_count": null,
   "outputs": [],
   "source": [
    "model = \"sccoda\"\n",
    "alpha = 0.2\n",
    "run_no = 2\n",
    "\n",
    "for author in author_adds.items():\n",
    "    print(\"\")\n",
    "    print(author)\n",
    "    one_author_new(author, tax_levels, author_adds[author], model, alpha, run_no=run_no)"
   ],
   "metadata": {
    "collapsed": false,
    "pycharm": {
     "is_executing": true
    }
   }
  },
  {
   "cell_type": "markdown",
   "source": [
    "## Run LinDA"
   ],
   "metadata": {
    "collapsed": false
   }
  },
  {
   "cell_type": "code",
   "execution_count": null,
   "outputs": [],
   "source": [
    "model = \"LinDA\"\n",
    "alpha = 0.2\n",
    "run_no = 1\n",
    "\n",
    "for author, adds in author_adds.items():\n",
    "    print(\"\")\n",
    "    print(author)\n",
    "    one_author_new(author, tax_levels, adds, model, alpha, run_no=run_no)"
   ],
   "metadata": {
    "collapsed": false
   }
  }
 ],
 "metadata": {
  "kernelspec": {
   "display_name": "Python 3",
   "language": "python",
   "name": "python3"
  },
  "language_info": {
   "codemirror_mode": {
    "name": "ipython",
    "version": 2
   },
   "file_extension": ".py",
   "mimetype": "text/x-python",
   "name": "python",
   "nbconvert_exporter": "python",
   "pygments_lexer": "ipython2",
   "version": "2.7.6"
  }
 },
 "nbformat": 4,
 "nbformat_minor": 0
}
